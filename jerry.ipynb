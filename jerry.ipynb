{
  "cells": [
    {
      "cell_type": "markdown",
      "metadata": {
        "id": "view-in-github",
        "colab_type": "text"
      },
      "source": [
        "<a href=\"https://colab.research.google.com/github/THE-AKR/Simple-chatbot/blob/main/jerry.ipynb\" target=\"_parent\"><img src=\"https://colab.research.google.com/assets/colab-badge.svg\" alt=\"Open In Colab\"/></a>"
      ]
    },
    {
      "cell_type": "markdown",
      "source": [
        "## ***First  Install all libraries(1st cell) and functions*** (2nd run me to 10th run me ) then \"main program\"\n"
      ],
      "metadata": {
        "id": "BQvV3kgqLjM8"
      }
    },
    {
      "cell_type": "code",
      "source": [
        "!pip install faker\n",
        "!pip install pillow\n",
        "import IPython.display as display\n",
        "import numpy as np\n",
        "from faker import Faker\n",
        "fake= Faker([\"en_IN\"])\n",
        "from PIL import Image \n",
        "!pip install qrcode\n",
        "from urllib.request import urlopen\n",
        "url=r\"https://i.ibb.co/fC7tY9D/giphy.gif\"\n",
        "img = Image.open(urlopen(url))\n"
      ],
      "metadata": {
        "colab": {
          "base_uri": "https://localhost:8080/"
        },
        "id": "N1LD1_9gLffV",
        "outputId": "abbecc0d-fd58-4261-dc25-e19d1cd4e28d"
      },
      "execution_count": 9,
      "outputs": [
        {
          "output_type": "stream",
          "name": "stdout",
          "text": [
            "Looking in indexes: https://pypi.org/simple, https://us-python.pkg.dev/colab-wheels/public/simple/\n",
            "Requirement already satisfied: faker in /usr/local/lib/python3.7/dist-packages (14.2.0)\n",
            "Requirement already satisfied: typing-extensions>=3.7.4.3 in /usr/local/lib/python3.7/dist-packages (from faker) (4.1.1)\n",
            "Requirement already satisfied: python-dateutil>=2.4 in /usr/local/lib/python3.7/dist-packages (from faker) (2.8.2)\n",
            "Requirement already satisfied: six>=1.5 in /usr/local/lib/python3.7/dist-packages (from python-dateutil>=2.4->faker) (1.15.0)\n",
            "Looking in indexes: https://pypi.org/simple, https://us-python.pkg.dev/colab-wheels/public/simple/\n",
            "Requirement already satisfied: pillow in /usr/local/lib/python3.7/dist-packages (7.1.2)\n",
            "Looking in indexes: https://pypi.org/simple, https://us-python.pkg.dev/colab-wheels/public/simple/\n",
            "Requirement already satisfied: qrcode in /usr/local/lib/python3.7/dist-packages (7.3.1)\n"
          ]
        }
      ]
    },
    {
      "cell_type": "code",
      "source": [
        "#2nd run me \n",
        "\n",
        "def quit(): #6 \n",
        "  print(\"adiós\")\n",
        "\n"
      ],
      "metadata": {
        "id": "bmqnNEznoypj"
      },
      "execution_count": 32,
      "outputs": []
    },
    {
      "cell_type": "code",
      "source": [
        "#3rd run me\n",
        "\n",
        "def who(): #who\n",
        "  print(\"\\nhi, I'm Jerry the bot \") \n",
        "  display.display(img)\n",
        "\n"
      ],
      "metadata": {
        "id": "v7Env_xMF-vC"
      },
      "execution_count": 31,
      "outputs": []
    },
    {
      "cell_type": "code",
      "source": [
        "#4th run me\n",
        "\n",
        "def start():\n",
        "\n",
        "  print(\"\\nchoose options: \\n1. Track Your Parcel Delivery Status \\n2. Job opening \\n3. Register your account \\n4. play a game \\n5. who am I ? \\n6. Quit \\n7. Generate your own qrcode\")\n",
        "  user =int(input(\"\\nenter option number: \"))\n",
        "  if(user == 1):\n",
        "      f1()\n",
        "      back()\n",
        "  elif(user== 2):\n",
        "     f2()\n",
        "     back()\n",
        "  elif(user==3):\n",
        "      f3()\n",
        "      back()\n",
        "  elif(user==4):\n",
        "      f4()\n",
        "      back()\n",
        "  elif(user==5):\n",
        "      who()\n",
        "      back()\n",
        "  elif(user==7):\n",
        "    qrcode()\n",
        "    back()\n",
        "  elif(user==6):\n",
        "      quit()\n",
        "  else:\n",
        "      print(\"invalid\")\n",
        "      back()\n",
        "\n"
      ],
      "metadata": {
        "id": "OCA7yeU5GPvU"
      },
      "execution_count": 30,
      "outputs": []
    },
    {
      "cell_type": "code",
      "source": [
        "#5th run me\n",
        "\n",
        "def f1(): #trace your product\n",
        "  print(\"\\nDestination: \", fake.address())\n",
        "  print(fake.city())\n",
        "  print(\"\\nCurrent street name: \",fake.street_name())\n",
        "  print(\"\\ncurrent state name: \", fake.administrative_unit())\n",
        "  print(\"\\nlatitude and longitude: \", fake.latitude(),fake.longitude())\n"
      ],
      "metadata": {
        "id": "BJ95FvQaGeWx"
      },
      "execution_count": 29,
      "outputs": []
    },
    {
      "cell_type": "code",
      "source": [
        "#6th run me \n",
        "\n",
        "def f2(): #job posting\n",
        " for _ in range(1):\n",
        "    print(\"\\njob posts: \", fake.job())\n",
        "    print(\"company name: \", fake.company())\n",
        "    print(\"company details: \", fake.catch_phrase())\n",
        "    print(\"company suffix: \", fake.company_suffix())\n",
        "    print(\"company email: \", fake.ascii_company_email())\n",
        "    print()\n"
      ],
      "metadata": {
        "id": "Bti4YoqXGlrR"
      },
      "execution_count": 27,
      "outputs": []
    },
    {
      "cell_type": "code",
      "source": [
        "#7th run me\n",
        "\n",
        "def f3(): #user's email\n",
        "  for _ in range(3): \n",
        "    list1= [\"email exists: \", fake.ascii_company_email()]\n",
        "    print(list1)\n",
        "  print()\n",
        "  user2=input(\"\\nEnter your Email id: \\n\")\n",
        "  list1.append(user2)\n",
        "  print(list1)\n",
        "\n"
      ],
      "metadata": {
        "id": "vRk-_Bw3Gwwp"
      },
      "execution_count": 26,
      "outputs": []
    },
    {
      "cell_type": "code",
      "source": [
        "#8th run me \n",
        "\n",
        "def f4(): # number guessing game\n",
        "  print(\"\\n***Number Guessing Game***\\n A number guessing game is a simple guessing game where a user is supposed to guess a number between 1 and 4 in a maximum of 2 attempts.\\n The game will end after 2 attempts and if the player failed to guess the number, and then he loses the game.\\n\")\n",
        "  for i in range(2):\n",
        "    value = np.random.randint(1,4)\n",
        "\n",
        "    number = int(input(\"\\n Enter a integer number: \"))\n",
        "\n",
        "    if number == value:\n",
        "       print(\"You chose\", number )\n",
        "       print(\"random_number : \", value )\n",
        "       print(\"You win!\")\n",
        "    else:\n",
        "        print(\"You chose\", number )\n",
        "        print(\"random_number : \", value )\n",
        "        print(\"You loose\")\n",
        "    \n"
      ],
      "metadata": {
        "id": "1pSoMs29G0Dz"
      },
      "execution_count": 25,
      "outputs": []
    },
    {
      "cell_type": "code",
      "source": [
        "#9th run me \n",
        "\n",
        "def back():\n",
        "   exit = input(\"\\ntype exit to return\\n\")\n",
        "   if(exit==\"exit\"):\n",
        "     start()\n",
        "\n"
      ],
      "metadata": {
        "id": "L8Di5b1OG_7D"
      },
      "execution_count": 33,
      "outputs": []
    },
    {
      "cell_type": "code",
      "source": [
        "#10th run me \n",
        "\n",
        "import qrcode as qr\n",
        "def qrcode():\n",
        "  a=input(\"enter the Url : \") #https://www.youtube.com/channel/UC99TMNtVrzfQy-2ajV8-rGA\n",
        "  img= qr.make(a) \n",
        "  print(\"qr generated successfully\\n downloaded image saved as name = img.png (check folder symbol in left) \") #downloaded image saved as name = \"img.png\" (check folder symbol in left )\n",
        "  img.save(\"img.png\")"
      ],
      "metadata": {
        "id": "u2qPx5kEQgo5"
      },
      "execution_count": 20,
      "outputs": []
    },
    {
      "cell_type": "code",
      "execution_count": 36,
      "metadata": {
        "colab": {
          "base_uri": "https://localhost:8080/"
        },
        "id": "7ZbhR559-xXe",
        "outputId": "a730ffd4-58b8-4ce3-f01f-0be38e220776"
      },
      "outputs": [
        {
          "output_type": "stream",
          "name": "stdout",
          "text": [
            "start with saying hi\n",
            "\n",
            "hi\n",
            "\n",
            "choose options: \n",
            "1. Track Your Parcel Delivery Status \n",
            "2. Job opening \n",
            "3. Register your account \n",
            "4. play a game \n",
            "5. who am I ? \n",
            "6. Quit \n",
            "7. Generate your own qrcode\n",
            "\n",
            "enter option number: 2\n",
            "\n",
            "job posts:  Cabin crew\n",
            "company name:  Buch-Varma\n",
            "company details:  Adaptive neutral framework\n",
            "company suffix:  and Sons\n",
            "company email:  anahi08@dayal-bhattacharyya.com\n",
            "\n",
            "\n",
            "type exit to return\n",
            "exit\n",
            "\n",
            "choose options: \n",
            "1. Track Your Parcel Delivery Status \n",
            "2. Job opening \n",
            "3. Register your account \n",
            "4. play a game \n",
            "5. who am I ? \n",
            "6. Quit \n",
            "7. Generate your own qrcode\n",
            "\n",
            "enter option number: 6\n",
            "adiós\n"
          ]
        }
      ],
      "source": [
        "#main program\n",
        "\n",
        "print(\"start with saying hi\\n\")\n",
        "\n",
        "user=input()\n",
        "if(user==\"hi\"):\n",
        "#img.show();\n",
        "# display.display(img)\n",
        "  start()\n",
        "else:\n",
        "  print(\"Please say hi to me\")\n"
      ]
    },
    {
      "cell_type": "markdown",
      "source": [
        "# *Error house* (not for use)\n"
      ],
      "metadata": {
        "id": "IaLTdQBGpwU_"
      }
    },
    {
      "cell_type": "code",
      "source": [
        "#!pip install playsound\n",
        "#from playsound import playsound\n",
        "!pip install pydub"
      ],
      "metadata": {
        "colab": {
          "base_uri": "https://localhost:8080/"
        },
        "id": "AAqhDSsTzC7f",
        "outputId": "bbb48ace-fde4-445b-8db9-120a34aaada9"
      },
      "execution_count": null,
      "outputs": [
        {
          "output_type": "stream",
          "name": "stdout",
          "text": [
            "Looking in indexes: https://pypi.org/simple, https://us-python.pkg.dev/colab-wheels/public/simple/\n",
            "Collecting pydub\n",
            "  Downloading pydub-0.25.1-py2.py3-none-any.whl (32 kB)\n",
            "Installing collected packages: pydub\n",
            "Successfully installed pydub-0.25.1\n"
          ]
        }
      ]
    },
    {
      "cell_type": "code",
      "source": [
        "from pydub import AudioSegment\n",
        "from pydub.playback import play\n",
        "\n",
        "song = AudioSegment.from_mp3(\"/content/Minions Papaya Song (1).mp3\")\n",
        "print('playing sound using  pydub')\n",
        "play(song)"
      ],
      "metadata": {
        "id": "gPMkHWVO3Ig8"
      },
      "execution_count": null,
      "outputs": []
    },
    {
      "cell_type": "code",
      "source": [
        "#js2= 'responsiveVoice.speak(“Hello World”);'\n",
        "#test_1= j.evaljs(js2)\n",
        "#test_1.execute(js2)"
      ],
      "metadata": {
        "id": "e9UynMTmqARR"
      },
      "execution_count": null,
      "outputs": []
    },
    {
      "cell_type": "code",
      "source": [
        "#js1= '\"https://code.responsivevoice.org/responsivevoice.js?key=YOUR_UNIQUE_KEY\"'\n",
        "#pyt = j.eval_js(js1)"
      ],
      "metadata": {
        "id": "mdlQ29BGqGDl"
      },
      "execution_count": null,
      "outputs": []
    },
    {
      "cell_type": "code",
      "source": [
        "!pip install Js2Py\n",
        "import js2py as j"
      ],
      "metadata": {
        "id": "xoKnvFoaqLpR"
      },
      "execution_count": null,
      "outputs": []
    },
    {
      "cell_type": "code",
      "source": [
        "!pip install pyttsx3\n",
        "!sudo apt install libespeak-dev\n",
        "!sudo apt install espeak"
      ],
      "metadata": {
        "id": "iAg6TTWWZB0Z",
        "colab": {
          "base_uri": "https://localhost:8080/"
        },
        "outputId": "1555f83f-e048-4a78-c727-4d4f9abfdae4"
      },
      "execution_count": null,
      "outputs": [
        {
          "output_type": "stream",
          "name": "stdout",
          "text": [
            "Looking in indexes: https://pypi.org/simple, https://us-python.pkg.dev/colab-wheels/public/simple/\n",
            "Collecting pyttsx3\n",
            "  Downloading pyttsx3-2.90-py3-none-any.whl (39 kB)\n",
            "Installing collected packages: pyttsx3\n",
            "Successfully installed pyttsx3-2.90\n",
            "Reading package lists... Done\n",
            "Building dependency tree       \n",
            "Reading state information... Done\n",
            "The following package was automatically installed and is no longer required:\n",
            "  libnvidia-common-460\n",
            "Use 'sudo apt autoremove' to remove it.\n",
            "The following additional packages will be installed:\n",
            "  espeak-data libespeak1 libportaudio2 libsonic0\n",
            "The following NEW packages will be installed:\n",
            "  espeak-data libespeak-dev libespeak1 libportaudio2 libsonic0\n",
            "0 upgraded, 5 newly installed, 0 to remove and 20 not upgraded.\n",
            "Need to get 1,331 kB of archives.\n",
            "After this operation, 3,444 kB of additional disk space will be used.\n",
            "Get:1 http://archive.ubuntu.com/ubuntu bionic/universe amd64 espeak-data amd64 1.48.04+dfsg-5 [934 kB]\n",
            "Get:2 http://archive.ubuntu.com/ubuntu bionic/universe amd64 libportaudio2 amd64 19.6.0-1 [64.6 kB]\n",
            "Get:3 http://archive.ubuntu.com/ubuntu bionic/main amd64 libsonic0 amd64 0.2.0-6 [13.4 kB]\n",
            "Get:4 http://archive.ubuntu.com/ubuntu bionic/universe amd64 libespeak1 amd64 1.48.04+dfsg-5 [145 kB]\n",
            "Get:5 http://archive.ubuntu.com/ubuntu bionic/universe amd64 libespeak-dev amd64 1.48.04+dfsg-5 [174 kB]\n",
            "Fetched 1,331 kB in 0s (4,688 kB/s)\n",
            "debconf: unable to initialize frontend: Dialog\n",
            "debconf: (No usable dialog-like program is installed, so the dialog based frontend cannot be used. at /usr/share/perl5/Debconf/FrontEnd/Dialog.pm line 76, <> line 5.)\n",
            "debconf: falling back to frontend: Readline\n",
            "debconf: unable to initialize frontend: Readline\n",
            "debconf: (This frontend requires a controlling tty.)\n",
            "debconf: falling back to frontend: Teletype\n",
            "dpkg-preconfigure: unable to re-open stdin: \n",
            "Selecting previously unselected package espeak-data:amd64.\n",
            "(Reading database ... 155676 files and directories currently installed.)\n",
            "Preparing to unpack .../espeak-data_1.48.04+dfsg-5_amd64.deb ...\n",
            "Unpacking espeak-data:amd64 (1.48.04+dfsg-5) ...\n",
            "Selecting previously unselected package libportaudio2:amd64.\n",
            "Preparing to unpack .../libportaudio2_19.6.0-1_amd64.deb ...\n",
            "Unpacking libportaudio2:amd64 (19.6.0-1) ...\n",
            "Selecting previously unselected package libsonic0:amd64.\n",
            "Preparing to unpack .../libsonic0_0.2.0-6_amd64.deb ...\n",
            "Unpacking libsonic0:amd64 (0.2.0-6) ...\n",
            "Selecting previously unselected package libespeak1:amd64.\n",
            "Preparing to unpack .../libespeak1_1.48.04+dfsg-5_amd64.deb ...\n",
            "Unpacking libespeak1:amd64 (1.48.04+dfsg-5) ...\n",
            "Selecting previously unselected package libespeak-dev:amd64.\n",
            "Preparing to unpack .../libespeak-dev_1.48.04+dfsg-5_amd64.deb ...\n",
            "Unpacking libespeak-dev:amd64 (1.48.04+dfsg-5) ...\n",
            "Setting up libportaudio2:amd64 (19.6.0-1) ...\n",
            "Setting up espeak-data:amd64 (1.48.04+dfsg-5) ...\n",
            "Setting up libsonic0:amd64 (0.2.0-6) ...\n",
            "Setting up libespeak1:amd64 (1.48.04+dfsg-5) ...\n",
            "Setting up libespeak-dev:amd64 (1.48.04+dfsg-5) ...\n",
            "Processing triggers for libc-bin (2.27-3ubuntu1.5) ...\n",
            "Reading package lists... Done\n",
            "Building dependency tree       \n",
            "Reading state information... Done\n",
            "The following package was automatically installed and is no longer required:\n",
            "  libnvidia-common-460\n",
            "Use 'sudo apt autoremove' to remove it.\n",
            "The following NEW packages will be installed:\n",
            "  espeak\n",
            "0 upgraded, 1 newly installed, 0 to remove and 20 not upgraded.\n",
            "Need to get 61.6 kB of archives.\n",
            "After this operation, 209 kB of additional disk space will be used.\n",
            "Get:1 http://archive.ubuntu.com/ubuntu bionic/universe amd64 espeak amd64 1.48.04+dfsg-5 [61.6 kB]\n",
            "Fetched 61.6 kB in 0s (452 kB/s)\n",
            "debconf: unable to initialize frontend: Dialog\n",
            "debconf: (No usable dialog-like program is installed, so the dialog based frontend cannot be used. at /usr/share/perl5/Debconf/FrontEnd/Dialog.pm line 76, <> line 1.)\n",
            "debconf: falling back to frontend: Readline\n",
            "debconf: unable to initialize frontend: Readline\n",
            "debconf: (This frontend requires a controlling tty.)\n",
            "debconf: falling back to frontend: Teletype\n",
            "dpkg-preconfigure: unable to re-open stdin: \n",
            "Selecting previously unselected package espeak.\n",
            "(Reading database ... 155981 files and directories currently installed.)\n",
            "Preparing to unpack .../espeak_1.48.04+dfsg-5_amd64.deb ...\n",
            "Unpacking espeak (1.48.04+dfsg-5) ...\n",
            "Setting up espeak (1.48.04+dfsg-5) ...\n",
            "Processing triggers for man-db (2.8.3-2ubuntu0.1) ...\n"
          ]
        }
      ]
    },
    {
      "cell_type": "code",
      "source": [
        "import pyttsx3\n",
        "engine= pyttsx3.init()\n",
        "engine.say(\"Hello world\")\n",
        "engine.runAndWait()"
      ],
      "metadata": {
        "id": "hmiuEB701BIX"
      },
      "execution_count": null,
      "outputs": []
    },
    {
      "cell_type": "code",
      "source": [
        "def f6(): #audio\n",
        "  print()\n",
        "f6()"
      ],
      "metadata": {
        "id": "Xwo8T4oiLD9w"
      },
      "execution_count": null,
      "outputs": []
    },
    {
      "cell_type": "code",
      "source": [],
      "metadata": {
        "id": "ibJZk8ujqao7"
      },
      "execution_count": null,
      "outputs": []
    },
    {
      "cell_type": "markdown",
      "source": [],
      "metadata": {
        "id": "E6Ipgwh2q35G"
      }
    },
    {
      "cell_type": "code",
      "source": [],
      "metadata": {
        "id": "UeGUsf3usQCz"
      },
      "execution_count": null,
      "outputs": []
    }
  ],
  "metadata": {
    "colab": {
      "collapsed_sections": [],
      "provenance": [],
      "authorship_tag": "ABX9TyMHdGcYZMlUPSVpmEYDIMRh",
      "include_colab_link": true
    },
    "kernelspec": {
      "display_name": "Python 3",
      "name": "python3"
    },
    "language_info": {
      "name": "python"
    }
  },
  "nbformat": 4,
  "nbformat_minor": 0
}